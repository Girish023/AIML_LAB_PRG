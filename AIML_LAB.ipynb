{
  "nbformat": 4,
  "nbformat_minor": 0,
  "metadata": {
    "colab": {
      "provenance": []
    },
    "kernelspec": {
      "name": "python3",
      "display_name": "Python 3"
    },
    "language_info": {
      "name": "python"
    }
  },
  "cells": [
    {
      "cell_type": "markdown",
      "source": [
        "## LAB PROGRAM 1"
      ],
      "metadata": {
        "id": "W6ytCWVBY964"
      }
    },
    {
      "cell_type": "code",
      "execution_count": null,
      "metadata": {
        "id": "5Rhoa_wLUBd3"
      },
      "outputs": [],
      "source": [
        "import numpy as np\n",
        "import pandas as pd\n",
        "from sklearn.neighbors import KNeighborsClassifier\n",
        "from sklearn.model_selection import train_test_split\n",
        "from sklearn import metrics\n",
        "\n",
        "df=pd.read_csv(\"/content/Iris.csv\",header=0)\n",
        "x_train,x_test,y_train,y_test=train_test_split(df.iloc[:,:-1],df.iloc[:,-1],test_size=0.2)\n",
        "c=KNeighborsClassifier(n_neighbors=5).fit(x_train,y_train)\n",
        "ypred=c.predict(x_test)\n",
        "\n",
        "print(\"\\n..................\")\n",
        "print(\"%-25s %-25s %-25s\"% ('original_label', 'predicted_label', 'Correct/Wrong'))\n",
        "for original, predicted in zip(y_test,ypred):\n",
        "  Correctness='correct' if original==predicted else 'Wrong'\n",
        "  print(\"%-25s %-25s %-25s\"%(original, predicted, Correctness))\n",
        "print(\"\\n................\")\n",
        "print(\"Confusion metrics\", metrics.confusion_matrix(y_test,ypred))\n",
        "print(\"Classification report\", metrics.classification_report(y_test,ypred))\n",
        "print(\"Accuracy\", metrics.accuracy_score(y_test,ypred))"
      ]
    },
    {
      "cell_type": "markdown",
      "source": [
        "##LAB PROGRAM 2"
      ],
      "metadata": {
        "id": "j3paqxRCZMCu"
      }
    },
    {
      "cell_type": "code",
      "source": [
        "from sklearn.mixture import GaussianMixture\n",
        "from matplotlib import pyplot as plt\n",
        "from sklearn.cluster import KMeans\n",
        "import warnings\n",
        "warnings.filterwarnings(\"ignore\")\n",
        "\n",
        "names=['Sepal_length','Sepal_width','Petal_length','Petal_width','Class']\n",
        "x=df.iloc[:,:-1]\n",
        "label={'Iris-setosa':0,'Iris-versicolor':1,'Iris-virginica':2}\n",
        "y=[label[c] for c in df.iloc[:,-1]]\n",
        "plt.figure(figsize=(14,7))\n",
        "colormap=np.array(['red','lime','black'])\n",
        "\n",
        "plt.subplot(1,3,1)\n",
        "plt.title('Real')\n",
        "plt.scatter(x.PetalLengthCm,x.PetalWidthCm,c=colormap[y])\n",
        "\n",
        "model=KMeans(n_clusters=3,random_state=0).fit(x)\n",
        "plt.subplot(1,3,2)\n",
        "plt.title(\"KMeans\")\n",
        "plt.scatter(x.PetalLengthCm,x.PetalWidthCm,c=colormap[model.labels_])\n",
        "\n",
        "gmm=GaussianMixture(n_components=3,random_state=0).fit(x)\n",
        "y_gmm=gmm.predict(x)\n",
        "plt.subplot(1,3,3,)\n",
        "plt.title(\"Gaussian\")\n",
        "plt.scatter(x.PetalLengthCm,x.PetalWidthCm,c=colormap[y_gmm])"
      ],
      "metadata": {
        "id": "RmccMNY2ZRfk"
      },
      "execution_count": null,
      "outputs": []
    },
    {
      "cell_type": "markdown",
      "source": [
        "##LAB PROGRAM 3"
      ],
      "metadata": {
        "id": "FqVbM2W_Ciq4"
      }
    },
    {
      "cell_type": "code",
      "source": [
        "import matplotlib.pyplot as plt\n",
        "import pandas as pd\n",
        "import numpy as np\n",
        "\n",
        "def kernel(point, xmat, k):\n",
        "    m,n = np.shape(xmat)\n",
        "    weights = np.mat(np.eye((m)))\n",
        "    for j in range(m):\n",
        "        diff = point - X[j]\n",
        "        weights[j,j] = np.exp(diff*diff.T/(-2.0*k**2))\n",
        "    return weights\n",
        "\n",
        "def localWeight(point, xmat, ymat, k):\n",
        "    wei = kernel(point,xmat,k)\n",
        "    W = (X.T*(wei*X)).I*(X.T*(wei*ymat.T))\n",
        "    return W\n",
        "\n",
        "def localWeightRegression(xmat, ymat, k):\n",
        "    m,n = np.shape(xmat)\n",
        "    ypred = np.zeros(m)\n",
        "    for i in range(m):\n",
        "        ypred[i] = xmat[i]*localWeight(xmat[i],xmat,ymat,k)\n",
        "    return ypred\n",
        "\n",
        "\n",
        "data = pd.read_csv('/content/3PRGM_Dataset.csv')\n",
        "bill = np.array(data.total_bill)\n",
        "tip = np.array(data.tip)\n",
        "\n",
        "#preparing and add 1 in bill\n",
        "mbill = np.mat(bill)\n",
        "mtip = np.mat(tip)\n",
        "\n",
        "m= np.shape(mbill)[1]\n",
        "one = np.mat(np.ones(m))\n",
        "X = np.hstack((one.T,mbill.T))\n",
        "\n",
        "#set k here\n",
        "ypred = localWeightRegression(X,mtip,0.5)\n",
        "SortIndex = X[:,1].argsort(0)\n",
        "xsort = X[SortIndex][:,0]\n",
        "\n",
        "fig = plt.figure()\n",
        "ax = fig.add_subplot(1,1,1)\n",
        "ax.scatter(bill,tip, color='green')\n",
        "ax.plot(xsort[:,1],ypred[SortIndex], color = 'red', linewidth=5)\n",
        "plt.xlabel('Total bill')\n",
        "plt.ylabel('Tip')\n",
        "plt.show()"
      ],
      "metadata": {
        "id": "VA7KU4heCnLt"
      },
      "execution_count": null,
      "outputs": []
    },
    {
      "cell_type": "markdown",
      "source": [
        "##LAB PROGRAM 4"
      ],
      "metadata": {
        "id": "7cXk9oO6zFN3"
      }
    },
    {
      "cell_type": "code",
      "source": [
        "import numpy as np\n",
        "\n",
        "input_neurons = 2\n",
        "hidden_neurons = 4\n",
        "output_neurons = 2\n",
        "iterations = 6000\n",
        "\n",
        "# Random initialization\n",
        "np.random.seed(42)\n",
        "input_data = np.random.randint(1, 5, input_neurons)\n",
        "output_data = np.array([1.0, 0.0])\n",
        "hidden_w = np.random.rand(input_neurons, hidden_neurons)\n",
        "output_w = np.random.rand(hidden_neurons, output_neurons)\n",
        "hidden_b = np.random.rand(1, hidden_neurons)\n",
        "output_b = np.random.rand(1, output_neurons)\n",
        "\n",
        "def sigmoid(x):\n",
        "    return 1 / (1 + np.exp(-x))\n",
        "\n",
        "def sigmoid_derivative(x):\n",
        "    return x * (1 - x)\n",
        "\n",
        "for i in range(iterations):\n",
        "    hidden = sigmoid(np.dot(input_data, hidden_w) + hidden_b)\n",
        "    output = sigmoid(np.dot(hidden, output_w) + output_b)\n",
        "\n",
        "    error = output_data - output\n",
        "    output_delta = error * sigmoid_derivative(output)\n",
        "    hidden_error = output_delta.dot(output_w.T)\n",
        "    hidden_delta = hidden_error * sigmoid_derivative(hidden)\n",
        "\n",
        "    output_w += hidden.T.dot(output_delta)\n",
        "    hidden_w += input_data.reshape(-1, 1).dot(hidden_delta)\n",
        "    output_b += np.sum(output_delta)\n",
        "    hidden_b += np.sum(hidden_delta)\n",
        "\n",
        "    if i < 50 or i > iterations - 50:\n",
        "        print(\"**********************\")\n",
        "        print(\"Iteration:\", i, \"Error:\", error)\n",
        "        print(\"Output:\", output)\n"
      ],
      "metadata": {
        "id": "kiuDZw2ozIqS"
      },
      "execution_count": null,
      "outputs": []
    },
    {
      "cell_type": "markdown",
      "source": [
        "##LAB PROGRAM 5"
      ],
      "metadata": {
        "id": "HxzQWk_BzQKt"
      }
    },
    {
      "cell_type": "code",
      "source": [
        "import random\n",
        "\n",
        "POPULATION_SIZE = 100\n",
        "GENES = '''abcdefghijklmnopqrstuvwxyzABCDEFGHIJKLMNOPQRSTUVWXYZ1234567890, .-;:_!\"#%&/()=?@${[]}'''\n",
        "TARGET = \"I love GeeksforGeeks\"\n",
        "\n",
        "def create_individual():\n",
        "    return [random.choice(GENES) for _ in range(len(TARGET))]\n",
        "\n",
        "def calculate_fitness(individual):\n",
        "    count=0\n",
        "    for gene, target_gene in zip(individual, TARGET):\n",
        "        if gene != target_gene:\n",
        "            count=count+1\n",
        "    return count\n",
        "\n",
        "def mate(parent1, parent2):\n",
        "    child_chromosome = []\n",
        "    for p1, p2 in zip(parent1, parent2):\n",
        "        prob = random.random()\n",
        "        if prob < 0.45:\n",
        "            child_chromosome.append(p1)\n",
        "        elif prob < 0.90:\n",
        "            child_chromosome.append(p2)\n",
        "        else:\n",
        "            child_chromosome.append(random.choice(GENES))\n",
        "\n",
        "    return child_chromosome\n",
        "\n",
        "def main():\n",
        "    generation = 1\n",
        "    found = False\n",
        "    population = [create_individual() for _ in range(POPULATION_SIZE)]\n",
        "\n",
        "    while not found:\n",
        "        population = sorted(population, key=calculate_fitness)\n",
        "\n",
        "        if calculate_fitness(population[0]) <= 0:\n",
        "            found = True\n",
        "            break\n",
        "\n",
        "        new_generation = population[:int(0.1 * POPULATION_SIZE)]\n",
        "\n",
        "        for _ in range(int(0.9 * POPULATION_SIZE)):\n",
        "            parent1 = random.choice(population[:50])\n",
        "            parent2 = random.choice(population[:50])\n",
        "            child = mate(parent1, parent2)\n",
        "            new_generation.append(child)\n",
        "\n",
        "        population = new_generation\n",
        "\n",
        "        print(f\"Generation: {generation}\\tString: {''.join(population[0])}\\tFitness: {calculate_fitness(population[0])}\")\n",
        "        generation += 1\n",
        "\n",
        "    print(f\"Generation: {generation}\\tString: {''.join(population[0])}\\tFitness: {calculate_fitness(population[0])}\")\n",
        "\n",
        "main()"
      ],
      "metadata": {
        "id": "vzQZZG1qzTVc"
      },
      "execution_count": null,
      "outputs": []
    },
    {
      "cell_type": "markdown",
      "source": [
        "##LAB PROGRAM 6"
      ],
      "metadata": {
        "id": "TrrM2ABAzo5I"
      }
    },
    {
      "cell_type": "code",
      "source": [
        "import numpy as np\n",
        "\n",
        "# Define the environment (3x3 grid world)\n",
        "grid_world = [\n",
        "    ['S', '-', 'x'],\n",
        "    ['-', 'x', '-'],\n",
        "    ['x', '-', 'G']\n",
        "]\n",
        "\n",
        "# Define actions\n",
        "actions = ['up', 'down', 'left', 'right']\n",
        "num_actions = len(actions)\n",
        "\n",
        "# Define rewards\n",
        "rewards = {\n",
        "    'G': 100,\n",
        "    '-': -1,\n",
        "    'x': -10,\n",
        "    'S': 0\n",
        "}\n",
        "\n",
        "# Initialize Q-table\n",
        "Q = np.zeros((9, num_actions))\n",
        "\n",
        "# Define parameters\n",
        "alpha = 0.5  # Learning rate\n",
        "gamma = 0.9  # Discount factor\n",
        "epsilon = 0.3  # Epsilon for epsilon-greedy policy\n",
        "num_episodes = 1000  # Number of episodes\n",
        "max_steps_per_episode = 100  # Maximum steps per episode\n",
        "\n",
        "# Function to get the next state after taking an action\n",
        "def get_next_state(state_index, action_index):\n",
        "    row = state_index // 3\n",
        "    col = state_index % 3\n",
        "\n",
        "    if actions[action_index] == 'up':\n",
        "        row = max(0, row - 1)\n",
        "    elif actions[action_index] == 'down':\n",
        "        row = min(2, row + 1)\n",
        "    elif actions[action_index] == 'left':\n",
        "        col = max(0, col - 1)\n",
        "    else:\n",
        "        col = min(2, col + 1)\n",
        "\n",
        "    return row, col\n",
        "\n",
        "# Q-learning algorithm\n",
        "for episode in range(num_episodes):\n",
        "    state_index = 0  # Start at state 'S'\n",
        "    total_reward = 0\n",
        "\n",
        "    for step in range(max_steps_per_episode):\n",
        "        # Epsilon-greedy policy for action selection\n",
        "        if np.random.uniform(0, 1) < epsilon:\n",
        "            action_index = np.random.randint(num_actions)  # Explore\n",
        "        else:\n",
        "            action_index = np.argmax(Q[state_index, :])  # Exploit\n",
        "\n",
        "        # Simulate environment (transition to next state)\n",
        "        next_row, next_col = get_next_state(state_index, action_index)\n",
        "        next_state = grid_world[next_row][next_col]\n",
        "        next_state_index = next_row * 3 + next_col\n",
        "        reward = rewards[next_state]\n",
        "\n",
        "        # Q-table update\n",
        "        Q[state_index, action_index] += alpha * (\n",
        "            reward + gamma * np.max(Q[next_state_index, :]) - Q[state_index, action_index])\n",
        "\n",
        "        total_reward += reward\n",
        "        state_index = next_state_index\n",
        "\n",
        "        if grid_world[next_row][next_col] == 'G':\n",
        "            break  # Goal reached, terminate the episode\n",
        "\n",
        "    if (episode + 1) % 100 == 0:\n",
        "        print(f\"Episode {episode + 1}/{num_episodes}, Total Reward: {total_reward}\")\n",
        "\n",
        "# Trained Q-table\n",
        "print(\"\\nTrained Q-table:\")\n",
        "print(Q)\n",
        "\n",
        "# Testing the trained agent\n",
        "current_state_index = 0  # Start at state 'S'\n",
        "\n",
        "print(\"\\nAgent path:\")\n",
        "while grid_world[current_state_index // 3][current_state_index % 3] != 'G':\n",
        "    action_index = np.argmax(Q[current_state_index, :])\n",
        "    print(f\"Current State: {grid_world[current_state_index // 3][current_state_index % 3]}\")\n",
        "    print(f\"Action Taken: {actions[action_index]}\")\n",
        "\n",
        "    next_row, next_col = get_next_state(current_state_index, action_index)\n",
        "    current_state_index = next_row * 3 + next_col\n",
        "\n",
        "    print(\"---------\")\n",
        "\n",
        "print(f\"Reached Goal: {grid_world[current_state_index // 3][current_state_index % 3]}\")"
      ],
      "metadata": {
        "id": "qXBbpz34zrfo"
      },
      "execution_count": null,
      "outputs": []
    }
  ]
}